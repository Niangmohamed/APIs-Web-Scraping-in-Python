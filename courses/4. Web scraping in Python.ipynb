{
 "cells": [
  {
   "cell_type": "markdown",
   "id": "fce7ee38",
   "metadata": {},
   "source": [
    "# Python: Web scraping"
   ]
  },
  {
   "cell_type": "markdown",
   "id": "3e658c3d",
   "metadata": {},
   "source": [
    "**Goal**: Retrieve elements from a web page!"
   ]
  },
  {
   "cell_type": "markdown",
   "id": "9b186cc1",
   "metadata": {},
   "source": [
    "## Introduction to web scraping"
   ]
  },
  {
   "cell_type": "markdown",
   "id": "5946b2ff",
   "metadata": {},
   "source": [
    "In the context of extracting data outside of APIs, i.e. from the web, it is called **web scraping**. It consists in **loading** and **extracting data** from **websites**. To do this, it is necessary to know the **structure of a web page (html & css)**."
   ]
  },
  {
   "cell_type": "code",
   "execution_count": 1,
   "id": "5a6fea18",
   "metadata": {},
   "outputs": [],
   "source": [
    "# Example\n",
    "import requests"
   ]
  },
  {
   "cell_type": "code",
   "execution_count": 2,
   "id": "ab2464e3",
   "metadata": {},
   "outputs": [],
   "source": [
    "response = requests.get(\"https://raw.githubusercontent.com/Niangmohamed/Niangmohamed.github.io/main/index.html\")"
   ]
  },
  {
   "cell_type": "code",
   "execution_count": 3,
   "id": "a49bcc37",
   "metadata": {},
   "outputs": [
    {
     "data": {
      "text/plain": [
       "b'<!doctype html>\\n<!--[if IE 7 ]>    <html lang=\"en-gb\" class=\"isie ie7 oldie no-js\"> <![endif]-->\\n<!--[if IE 8 ]>    <html lang=\"en-gb\" class=\"isie ie8 oldie no-js\"> <![endif]-->\\n<!--[if IE 9 ]>    <html lang=\"en-gb\" class=\"isie ie9 no-js\"> <![endif]-->\\n<!--[if (gt IE 9)|!(IE)]><!-->\\n<html lang=\"en-gb\" class=\"no-js\">\\n<!--<![endif]-->\\n<head>\\n<meta charset=\"utf-8\">\\n<meta name=\"viewport\" content=\"width=device-width, initial-scale=1, maximum-scale=1\">\\n<!--[if lt IE 9]> \\n    <meta http-equiv=\"X-UA-Compatible\" content=\"IE=edge,chrome=1\">\\n    <![endif]-->\\n<title>Mohamed Niang</title>\\n<link rel=\"icon\" type=\"image/x-icon\" href=\"images/icons.png\" />\\n<meta name=\"description\" content=\"\">\\n<meta name=\"author\" content=\"WebThemez\">\\n<!--[if lt IE 9]>\\n        <script src=\"http://html5shim.googlecode.com/svn/trunk/html5.js\"></script>\\n    <![endif]-->\\n<!--[if lte IE 8]>\\n\\t\\t<script type=\"text/javascript\" src=\"http://explorercanvas.googlecode.com/svn/trunk/excanvas.js\"></script>\\n\\t<![endif]-->\\n<link rel=\"stylesheet\" href=\"css/bootstrap.min.css\" />\\n<link rel=\"stylesheet\" type=\"text/css\" href=\"css/isotope.css\" media=\"screen\" />\\n<link rel=\"stylesheet\" href=\"js/fancybox/jquery.fancybox.css\" type=\"text/css\" media=\"screen\" />\\n<link rel=\"stylesheet\" type=\"text/css\" href=\"css/da-slider.css\" />\\n<link rel=\"stylesheet\" href=\"css/styles.css\" />\\n<!-- Font Awesome -->\\n<link href=\"css/font-awesome.min.css\" rel=\"stylesheet\">\\n</head>\\n\\n<body>\\n<header class=\"header\">\\n  <div class=\"bg-parlex\">\\n    <nav class=\"navbar navbar-inverse\" role=\"navigation\">\\n      <div class=\"navbar-header\">\\n        <button type=\"button\" id=\"nav-toggle\" class=\"navbar-toggle\" data-toggle=\"collapse\" data-target=\"#main-nav\"> <span class=\"sr-only\">Toggle navigation</span> <span class=\"icon-bar\"></span> <span class=\"icon-bar\"></span> <span class=\"icon-bar\"></span> </button>\\n        <a href=\"#\" class=\"navbar-brand scroll-top logo\"><b></b></a> </div>\\n      <!--/.navbar-header-->\\n      <div id=\"main-nav\" class=\"collapse navbar-collapse\">\\n        <ul class=\"nav navbar-nav\" id=\"mainNav\">\\n          <li class=\"active\"><a href=\"#aboutUs\" class=\"scroll-link\">About Me</a></li>\\n          <li><a href=\"#skills\" class=\"scroll-link\">Skills</a></li>\\n          <li><a href=\"#contactUs\" class=\"scroll-link\">Contact Me</a></li>\\n        </ul>\\n      </div>\\n      <!--/.navbar-collapse--> \\n    </nav>\\n    <!--/.navbar--> \\n  </div>\\n  <!--/.container--> \\n</header>\\n<!--/.header-->\\n\\n\\n<!--About-->\\n<section id=\"aboutUs\">\\n  <div class=\"container\">\\n    <div class=\"heading \"> \\n    <br><br><br>\\n    <h2>About Me</h2>\\n    <div class=\"row\"> \\n      <!-- item -->\\n      <div class=\"col-md-4 tileBox\"> <img src=\"images/photo-1.jpg\" alt=\"me\"/> </div>\\n      <div class=\"col-md-8 tileBox\">\\n        <div class=\"txtHead\" >\\n          <h2>Mohamed Niang</h2>\\n          <h3> ML Scientist</h3>\\n        </div>\\n        <p align=\"justify\"> Data Science and Artificial Intelligence - I am passionate about developing and applying machine learning methods for building algorithms and predictive models using a variety of datasets for solving impactful real world problems. \\n          I am currently interested in the field of Natural Language Processing, Computer Vision and Generative Models.\\n        </p>\\n      </div>\\n      <!-- end: --> \\n    </div>\\n  </div>\\n  </div>\\n</section>\\n<!--Quote-->\\n<section id=\"quote\" class=\"bg-parlex\">\\n  <div class=\"parlex-back\">\\n    <div class=\"container\">\\n     <div class=\"row\">\\n\\t<div class=\"col-md-12\">      <h2>\\xe2\\x80\\x9cDreams are extremely important. You can\\xe2\\x80\\x99t do it unless you imagine it.\\xe2\\x80\\x9d <span>- George Lucas</span></h2></div>\\n      </div>\\n    </div>\\n    <!--/.container--> \\n  </div>\\n</section>\\n\\n<!--Skills-->\\n<section id=\"skills\" class=\"secPad white\">\\n  <div class=\"container\">\\n    <div class=\"heading \"> \\n      <!-- Heading -->\\n      <h2>My Skills</h2>\\n      <ul>\\n        <li>Programming: Python, Spark, R, SQL, C++, C, VBA, Stata, PHP, Java-Script, HTML, CSS</li>\\n        <li>Numerical Tools: Tensorflow, Keras, Scikit-learn, Pytorch, Pycuda, PySpark, Numpy, Scipy, Pandas, Matplotlib, MLlib</li>\\n        <li>Machine Learning Skills: Supervised Methods: Naive Bayes, Linear and Logistic Regression</li>\\n        <li>Deep Learning Skills: MLP, CNN, RNN, GAN, ResNet and Semi Supervised Learning (VAT)</li>\\n        <li>Reinforcement Learning Skills: Markov Decision Processes, Exploration/Exploitation, Value Functions, Q-Learning, Policy Gradients and Dynamic Programming</li>\\n        <li>SVM and Kernel Methods, Decision tree</li>\\n        <li>Ensemble Methods: XGBoost, LGBM, CatBoost, Random Forest, Bagging</li>\\n        <li>Other Modeling Techniques: RIDGE, LASSO, Elastic Net regression</li>\\n        <li>Unsupervised Methods: Model based and K-means clustering, Gaussian Mixture, PCA, LDA</li>\\n        <li>Research Environment: Git (GitHub, Gitlab, GitBash), GCP, Colab, Kaggle, Databriks, DataLab</li>\\n        <li>Statistical Software: STATA, SPSS, R Studio</li>\\n        <li>Visualization Software: PowerBI, Talend Open Studio</li>\\n      </ul>\\n    </div>\\n    <div class=\"row skillContainer\">\\n      <div class=\"col-md-4 skillBox\">\\n        <div id=\"diagram-id-1\" class=\"diagram\" data-percent=\"95.2%\"></div>\\n        <div class=\"chart-text\">\\n          <h4>Data Science </h4>\\n        </div>\\n      </div>\\n      <div class=\"col-md-4 skillBox\">\\n        <div id=\"diagram-id-2\" class=\"diagram\" data-percent=\"75.2%\"></div>\\n        <div class=\"chart-text\">\\n          <h4>Web Development</h4>\\n        </div>\\n      </div>\\n      <div class=\"col-md-4 skillBox\">\\n        <div id=\"diagram-id-3\" class=\"diagram\" data-percent=\"85.6%\"></div>\\n        <div class=\"chart-text\">\\n          <h4>Data Analysis</h4>\\n        </div>\\n      </div>\\n    </div>\\n    <div class=\"row\">\\n      <div class=\"col-sm-6\">\\n        <h2>Programming Skills</h2>\\n        <p class=\"mrgBtm20\" align=\"justify\">I am a big fan of programming and love to spend my time programming and learning new things about programming. My favorite programming language is without a doubt Python. However, I often manipulate a lot of other languages like SQL, R, JavaScript, etc. in the context of data science projects. </p>\\n      </div>\\n      <div class=\"col-sm-6\"> <br/>\\n        <br/>\\n        <br/>\\n        <div class=\"row\">\\n          <div class=\"col-md-2 skilltitle\"><b>Python</b></div>\\n          <div class=\"col-md-10\">\\n            <div class=\"progress\">\\n              <div class=\"progress-bar\" role=\"progressbar\" aria-valuenow=\"90\" aria-valuemin=\"0\" aria-valuemax=\"100\" style=\"width: 90%;\"> <span class=\"sr-only\">90% Complete</span> </div>\\n            </div>\\n          </div>\\n        </div>\\n        <div class=\"row\">\\n          <div class=\"col-md-2 skilltitle\"><b>R</b></div>\\n          <div class=\"col-md-10\">\\n            <div class=\"progress\">\\n              <div class=\"progress-bar\" role=\"progressbar\" aria-valuenow=\"80\" aria-valuemin=\"0\" aria-valuemax=\"100\" style=\"width: 80%;\"> <span class=\"sr-only\">80% Complete</span> </div>\\n            </div>\\n          </div>\\n        </div>\\n        <div class=\"row\">\\n          <div class=\"col-md-2 skilltitle\"><b>SQL</b></div>\\n          <div class=\"col-md-10\">\\n            <div class=\"progress\">\\n              <div class=\"progress-bar\" role=\"progressbar\" aria-valuenow=\"75\" aria-valuemin=\"0\" aria-valuemax=\"100\" style=\"width: 75%;\"> <span class=\"sr-only\">75% Complete</span> </div>\\n            </div>\\n          </div>\\n        </div>\\n        <div class=\"row\">\\n          <div class=\"col-md-2 skilltitle\"><b>JavaScript</b></div>\\n          <div class=\"col-md-10\">\\n            <div class=\"progress\">\\n              <div class=\"progress-bar\" role=\"progressbar\" aria-valuenow=\"75\" aria-valuemin=\"0\" aria-valuemax=\"100\" style=\"width: 75%;\"> <span class=\"sr-only\">75% Complete</span> </div>\\n            </div>\\n          </div>\\n        </div>\\n      </div>\\n    </div>\\n  </div>\\n</section>\\n\\n<!--Contact -->\\n<section id=\"contactUs\" class=\"page-section secPad\">\\n  <div class=\"container\">\\n    <div class=\"row\">\\n      <div class=\"heading\"> \\n        <!-- Heading -->\\n        <h2>Let\\'s Keep In Touch!</h2>\\n        <p>Thank you for visiting out my profile. If you would like to get into contact with me, please fill out the form below.</p>\\n      </div>\\n    </div>\\n    <div class=\"row mrgn30\">\\n      <form method=\"post\" action=\"\" id=\"contactfrm\" role=\"form\">\\n        <div class=\"col-sm-4\">\\n          <div class=\"form-group\">\\n            <label for=\"name\">Name</label>\\n            <input type=\"text\" class=\"form-control\" name=\"name\" id=\"name\" placeholder=\"Enter name\" title=\"Please enter your name (at least 2 characters)\">\\n          </div>\\n          <div class=\"form-group\">\\n            <label for=\"email\">Email</label>\\n            <input type=\"email\" class=\"form-control\" name=\"email\" id=\"email\" placeholder=\"Enter email\" title=\"Please enter a valid email address\">\\n          </div>\\n        </div>\\n        <div class=\"col-sm-4\">\\n          <div class=\"form-group\">\\n            <label for=\"comments\">Comments</label>\\n            <textarea name=\"comment\" class=\"form-control\" id=\"comments\" cols=\"3\" rows=\"5\" placeholder=\"Enter your message\\xe2\\x80\\xa6\" title=\"Please enter your message (at least 10 characters)\"></textarea>\\n          </div>\\n          <button name=\"submit\" type=\"submit\" class=\"btn btn-lg btn-primary\" id=\"submit\">Submit</button>\\n          <div class=\"result\"></div>\\n        </div>\\n      </form>\\n    </div>\\n  </div>\\n  <!--/.container--> \\n</section>\\n\\n<!--/.page-section-->\\n<footer class=\"copyright\">\\n  <div class=\"container\">\\n    <div class=\"row\">\\n      <div class=\"col-md-6\">\\n        <div class=\"social pull-left\"> <a href=\"https://twitter.com/Moha__niang\"><i class=\"fa fa-twitter\"></i></a> <a href=\"https://www.facebook.com/mouh.niang/\"><i class=\"fa fa-facebook\"></i></a> <a href=\"https://github.com/Niangmohamed\"><i class=\"fa fa-github\"></i></a> </div>\\n      </div>\\n      <div class=\"col-md-6\"> <span class=\"pull-right\">Copyright \\xc2\\xa9 Mohamed Niang 2022</span> </div>\\n    </div>\\n    <!-- / .row --> \\n  </div>\\n</footer>\\n<a href=\"#top\" class=\"topHome\"><i class=\"fa fa-chevron-up fa-2x\"></i></a> \\n\\n<!--[if lte IE 8]><script src=\"//ajax.googleapis.com/ajax/libs/jquery/1.11.0/jquery.min.js\"></script><![endif]--> \\n<script src=\"js/modernizr-latest.js\"></script> \\n<script src=\"js/jquery-1.8.2.min.js\" type=\"text/javascript\"></script> \\n<script src=\"js/bootstrap.min.js\" type=\"text/javascript\"></script> \\n<script src=\"js/jquery.isotope.min.js\" type=\"text/javascript\"></script> \\n<script src=\"js/fancybox/jquery.fancybox.pack.js\" type=\"text/javascript\"></script> \\n<script src=\"js/jquery.nav.js\" type=\"text/javascript\"></script> \\n<script src=\"js/jquery.cslider.js\" type=\"text/javascript\"></script> \\n<script src=\"js/jquery.diagram.js\"></script> \\n<script src=\"js/custom.js\" type=\"text/javascript\"></script> \\n<script src=\"js/owl-carousel/owl.carousel.js\"></script>\\n</body>\\n</html>\\n'"
      ]
     },
     "execution_count": 3,
     "metadata": {},
     "output_type": "execute_result"
    }
   ],
   "source": [
    "response_content = response.content\n",
    "response_content"
   ]
  },
  {
   "cell_type": "markdown",
   "id": "6a864230",
   "metadata": {},
   "source": [
    "## Retrieve elements from a page"
   ]
  },
  {
   "cell_type": "markdown",
   "id": "a1d50f4e",
   "metadata": {},
   "source": [
    "Once we have loaded a page, now let's suppose that we want extract a **paragraph**. To do this we have a powerful library, **BeautifulSoup** from the package **bs4**."
   ]
  },
  {
   "cell_type": "code",
   "execution_count": 4,
   "id": "20ec03d6",
   "metadata": {},
   "outputs": [],
   "source": [
    "from bs4 import BeautifulSoup"
   ]
  },
  {
   "cell_type": "markdown",
   "id": "6883e27c",
   "metadata": {},
   "source": [
    "We will use *BeautifulSoup* to analyze the content of the page previously downloaded."
   ]
  },
  {
   "cell_type": "code",
   "execution_count": 5,
   "id": "a35cdcb6",
   "metadata": {},
   "outputs": [],
   "source": [
    "parser = BeautifulSoup(response_content, \"html.parser\")"
   ]
  },
  {
   "cell_type": "code",
   "execution_count": 6,
   "id": "ad9b4bf6",
   "metadata": {},
   "outputs": [],
   "source": [
    "body = parser.body"
   ]
  },
  {
   "cell_type": "code",
   "execution_count": 7,
   "id": "bd63002f",
   "metadata": {},
   "outputs": [
    {
     "data": {
      "text/plain": [
       "<p align=\"justify\"> Data Science and Artificial Intelligence - I am passionate about developing and applying machine learning methods for building algorithms and predictive models using a variety of datasets for solving impactful real world problems. \n",
       "          I am currently interested in the field of Natural Language Processing, Computer Vision and Generative Models.\n",
       "        </p>"
      ]
     },
     "execution_count": 7,
     "metadata": {},
     "output_type": "execute_result"
    }
   ],
   "source": [
    "p = body.p\n",
    "p"
   ]
  },
  {
   "cell_type": "markdown",
   "id": "869fb1fb",
   "metadata": {},
   "source": [
    "To display only the text without the \\<p> tag, we use the **text attribute** of the **p object**."
   ]
  },
  {
   "cell_type": "code",
   "execution_count": 8,
   "id": "84106a8f",
   "metadata": {},
   "outputs": [
    {
     "name": "stdout",
     "output_type": "stream",
     "text": [
      " Data Science and Artificial Intelligence - I am passionate about developing and applying machine learning methods for building algorithms and predictive models using a variety of datasets for solving impactful real world problems. \n",
      "          I am currently interested in the field of Natural Language Processing, Computer Vision and Generative Models.\n",
      "        \n"
     ]
    }
   ],
   "source": [
    "print(p.text)"
   ]
  },
  {
   "cell_type": "markdown",
   "id": "4ca6818c",
   "metadata": {},
   "source": [
    "### Training"
   ]
  },
  {
   "cell_type": "markdown",
   "id": "23bb3576",
   "metadata": {},
   "source": [
    "Let's get the contents of the \\<head> tag."
   ]
  },
  {
   "cell_type": "code",
   "execution_count": 9,
   "id": "ca69d501",
   "metadata": {},
   "outputs": [],
   "source": [
    "head = parser.head"
   ]
  },
  {
   "cell_type": "code",
   "execution_count": 10,
   "id": "f7c82f51",
   "metadata": {},
   "outputs": [
    {
     "data": {
      "text/plain": [
       "'Mohamed Niang'"
      ]
     },
     "execution_count": 10,
     "metadata": {},
     "output_type": "execute_result"
    }
   ],
   "source": [
    "title = head.title\n",
    "title.text"
   ]
  },
  {
   "cell_type": "markdown",
   "id": "4565a4d1",
   "metadata": {},
   "source": [
    "## Use of find_all method"
   ]
  },
  {
   "cell_type": "markdown",
   "id": "d23e2346",
   "metadata": {},
   "source": [
    "The **find_all method** allows to **find all the elements** that correspond to a **tag** and to **return a list with all these elements**."
   ]
  },
  {
   "cell_type": "code",
   "execution_count": 11,
   "id": "0ead72ec",
   "metadata": {},
   "outputs": [
    {
     "data": {
      "text/plain": [
       "[<body>\n",
       " <header class=\"header\">\n",
       " <div class=\"bg-parlex\">\n",
       " <nav class=\"navbar navbar-inverse\" role=\"navigation\">\n",
       " <div class=\"navbar-header\">\n",
       " <button class=\"navbar-toggle\" data-target=\"#main-nav\" data-toggle=\"collapse\" id=\"nav-toggle\" type=\"button\"> <span class=\"sr-only\">Toggle navigation</span> <span class=\"icon-bar\"></span> <span class=\"icon-bar\"></span> <span class=\"icon-bar\"></span> </button>\n",
       " <a class=\"navbar-brand scroll-top logo\" href=\"#\"><b></b></a> </div>\n",
       " <!--/.navbar-header-->\n",
       " <div class=\"collapse navbar-collapse\" id=\"main-nav\">\n",
       " <ul class=\"nav navbar-nav\" id=\"mainNav\">\n",
       " <li class=\"active\"><a class=\"scroll-link\" href=\"#aboutUs\">About Me</a></li>\n",
       " <li><a class=\"scroll-link\" href=\"#skills\">Skills</a></li>\n",
       " <li><a class=\"scroll-link\" href=\"#contactUs\">Contact Me</a></li>\n",
       " </ul>\n",
       " </div>\n",
       " <!--/.navbar-collapse-->\n",
       " </nav>\n",
       " <!--/.navbar-->\n",
       " </div>\n",
       " <!--/.container-->\n",
       " </header>\n",
       " <!--/.header-->\n",
       " <!--About-->\n",
       " <section id=\"aboutUs\">\n",
       " <div class=\"container\">\n",
       " <div class=\"heading\">\n",
       " <br/><br/><br/>\n",
       " <h2>About Me</h2>\n",
       " <div class=\"row\">\n",
       " <!-- item -->\n",
       " <div class=\"col-md-4 tileBox\"> <img alt=\"me\" src=\"images/photo-1.jpg\"/> </div>\n",
       " <div class=\"col-md-8 tileBox\">\n",
       " <div class=\"txtHead\">\n",
       " <h2>Mohamed Niang</h2>\n",
       " <h3> ML Scientist</h3>\n",
       " </div>\n",
       " <p align=\"justify\"> Data Science and Artificial Intelligence - I am passionate about developing and applying machine learning methods for building algorithms and predictive models using a variety of datasets for solving impactful real world problems. \n",
       "           I am currently interested in the field of Natural Language Processing, Computer Vision and Generative Models.\n",
       "         </p>\n",
       " </div>\n",
       " <!-- end: -->\n",
       " </div>\n",
       " </div>\n",
       " </div>\n",
       " </section>\n",
       " <!--Quote-->\n",
       " <section class=\"bg-parlex\" id=\"quote\">\n",
       " <div class=\"parlex-back\">\n",
       " <div class=\"container\">\n",
       " <div class=\"row\">\n",
       " <div class=\"col-md-12\"> <h2>“Dreams are extremely important. You can’t do it unless you imagine it.” <span>- George Lucas</span></h2></div>\n",
       " </div>\n",
       " </div>\n",
       " <!--/.container-->\n",
       " </div>\n",
       " </section>\n",
       " <!--Skills-->\n",
       " <section class=\"secPad white\" id=\"skills\">\n",
       " <div class=\"container\">\n",
       " <div class=\"heading\">\n",
       " <!-- Heading -->\n",
       " <h2>My Skills</h2>\n",
       " <ul>\n",
       " <li>Programming: Python, Spark, R, SQL, C++, C, VBA, Stata, PHP, Java-Script, HTML, CSS</li>\n",
       " <li>Numerical Tools: Tensorflow, Keras, Scikit-learn, Pytorch, Pycuda, PySpark, Numpy, Scipy, Pandas, Matplotlib, MLlib</li>\n",
       " <li>Machine Learning Skills: Supervised Methods: Naive Bayes, Linear and Logistic Regression</li>\n",
       " <li>Deep Learning Skills: MLP, CNN, RNN, GAN, ResNet and Semi Supervised Learning (VAT)</li>\n",
       " <li>Reinforcement Learning Skills: Markov Decision Processes, Exploration/Exploitation, Value Functions, Q-Learning, Policy Gradients and Dynamic Programming</li>\n",
       " <li>SVM and Kernel Methods, Decision tree</li>\n",
       " <li>Ensemble Methods: XGBoost, LGBM, CatBoost, Random Forest, Bagging</li>\n",
       " <li>Other Modeling Techniques: RIDGE, LASSO, Elastic Net regression</li>\n",
       " <li>Unsupervised Methods: Model based and K-means clustering, Gaussian Mixture, PCA, LDA</li>\n",
       " <li>Research Environment: Git (GitHub, Gitlab, GitBash), GCP, Colab, Kaggle, Databriks, DataLab</li>\n",
       " <li>Statistical Software: STATA, SPSS, R Studio</li>\n",
       " <li>Visualization Software: PowerBI, Talend Open Studio</li>\n",
       " </ul>\n",
       " </div>\n",
       " <div class=\"row skillContainer\">\n",
       " <div class=\"col-md-4 skillBox\">\n",
       " <div class=\"diagram\" data-percent=\"95.2%\" id=\"diagram-id-1\"></div>\n",
       " <div class=\"chart-text\">\n",
       " <h4>Data Science </h4>\n",
       " </div>\n",
       " </div>\n",
       " <div class=\"col-md-4 skillBox\">\n",
       " <div class=\"diagram\" data-percent=\"75.2%\" id=\"diagram-id-2\"></div>\n",
       " <div class=\"chart-text\">\n",
       " <h4>Web Development</h4>\n",
       " </div>\n",
       " </div>\n",
       " <div class=\"col-md-4 skillBox\">\n",
       " <div class=\"diagram\" data-percent=\"85.6%\" id=\"diagram-id-3\"></div>\n",
       " <div class=\"chart-text\">\n",
       " <h4>Data Analysis</h4>\n",
       " </div>\n",
       " </div>\n",
       " </div>\n",
       " <div class=\"row\">\n",
       " <div class=\"col-sm-6\">\n",
       " <h2>Programming Skills</h2>\n",
       " <p align=\"justify\" class=\"mrgBtm20\">I am a big fan of programming and love to spend my time programming and learning new things about programming. My favorite programming language is without a doubt Python. However, I often manipulate a lot of other languages like SQL, R, JavaScript, etc. in the context of data science projects. </p>\n",
       " </div>\n",
       " <div class=\"col-sm-6\"> <br>\n",
       " <br>\n",
       " <br>\n",
       " <div class=\"row\">\n",
       " <div class=\"col-md-2 skilltitle\"><b>Python</b></div>\n",
       " <div class=\"col-md-10\">\n",
       " <div class=\"progress\">\n",
       " <div aria-valuemax=\"100\" aria-valuemin=\"0\" aria-valuenow=\"90\" class=\"progress-bar\" role=\"progressbar\" style=\"width: 90%;\"> <span class=\"sr-only\">90% Complete</span> </div>\n",
       " </div>\n",
       " </div>\n",
       " </div>\n",
       " <div class=\"row\">\n",
       " <div class=\"col-md-2 skilltitle\"><b>R</b></div>\n",
       " <div class=\"col-md-10\">\n",
       " <div class=\"progress\">\n",
       " <div aria-valuemax=\"100\" aria-valuemin=\"0\" aria-valuenow=\"80\" class=\"progress-bar\" role=\"progressbar\" style=\"width: 80%;\"> <span class=\"sr-only\">80% Complete</span> </div>\n",
       " </div>\n",
       " </div>\n",
       " </div>\n",
       " <div class=\"row\">\n",
       " <div class=\"col-md-2 skilltitle\"><b>SQL</b></div>\n",
       " <div class=\"col-md-10\">\n",
       " <div class=\"progress\">\n",
       " <div aria-valuemax=\"100\" aria-valuemin=\"0\" aria-valuenow=\"75\" class=\"progress-bar\" role=\"progressbar\" style=\"width: 75%;\"> <span class=\"sr-only\">75% Complete</span> </div>\n",
       " </div>\n",
       " </div>\n",
       " </div>\n",
       " <div class=\"row\">\n",
       " <div class=\"col-md-2 skilltitle\"><b>JavaScript</b></div>\n",
       " <div class=\"col-md-10\">\n",
       " <div class=\"progress\">\n",
       " <div aria-valuemax=\"100\" aria-valuemin=\"0\" aria-valuenow=\"75\" class=\"progress-bar\" role=\"progressbar\" style=\"width: 75%;\"> <span class=\"sr-only\">75% Complete</span> </div>\n",
       " </div>\n",
       " </div>\n",
       " </div>\n",
       " </br></br></br></div>\n",
       " </div>\n",
       " </div>\n",
       " </section>\n",
       " <!--Contact -->\n",
       " <section class=\"page-section secPad\" id=\"contactUs\">\n",
       " <div class=\"container\">\n",
       " <div class=\"row\">\n",
       " <div class=\"heading\">\n",
       " <!-- Heading -->\n",
       " <h2>Let's Keep In Touch!</h2>\n",
       " <p>Thank you for visiting out my profile. If you would like to get into contact with me, please fill out the form below.</p>\n",
       " </div>\n",
       " </div>\n",
       " <div class=\"row mrgn30\">\n",
       " <form action=\"\" id=\"contactfrm\" method=\"post\" role=\"form\">\n",
       " <div class=\"col-sm-4\">\n",
       " <div class=\"form-group\">\n",
       " <label for=\"name\">Name</label>\n",
       " <input class=\"form-control\" id=\"name\" name=\"name\" placeholder=\"Enter name\" title=\"Please enter your name (at least 2 characters)\" type=\"text\"/>\n",
       " </div>\n",
       " <div class=\"form-group\">\n",
       " <label for=\"email\">Email</label>\n",
       " <input class=\"form-control\" id=\"email\" name=\"email\" placeholder=\"Enter email\" title=\"Please enter a valid email address\" type=\"email\"/>\n",
       " </div>\n",
       " </div>\n",
       " <div class=\"col-sm-4\">\n",
       " <div class=\"form-group\">\n",
       " <label for=\"comments\">Comments</label>\n",
       " <textarea class=\"form-control\" cols=\"3\" id=\"comments\" name=\"comment\" placeholder=\"Enter your message…\" rows=\"5\" title=\"Please enter your message (at least 10 characters)\"></textarea>\n",
       " </div>\n",
       " <button class=\"btn btn-lg btn-primary\" id=\"submit\" name=\"submit\" type=\"submit\">Submit</button>\n",
       " <div class=\"result\"></div>\n",
       " </div>\n",
       " </form>\n",
       " </div>\n",
       " </div>\n",
       " <!--/.container-->\n",
       " </section>\n",
       " <!--/.page-section-->\n",
       " <footer class=\"copyright\">\n",
       " <div class=\"container\">\n",
       " <div class=\"row\">\n",
       " <div class=\"col-md-6\">\n",
       " <div class=\"social pull-left\"> <a href=\"https://twitter.com/Moha__niang\"><i class=\"fa fa-twitter\"></i></a> <a href=\"https://www.facebook.com/mouh.niang/\"><i class=\"fa fa-facebook\"></i></a> <a href=\"https://github.com/Niangmohamed\"><i class=\"fa fa-github\"></i></a> </div>\n",
       " </div>\n",
       " <div class=\"col-md-6\"> <span class=\"pull-right\">Copyright © Mohamed Niang 2022</span> </div>\n",
       " </div>\n",
       " <!-- / .row -->\n",
       " </div>\n",
       " </footer>\n",
       " <a class=\"topHome\" href=\"#top\"><i class=\"fa fa-chevron-up fa-2x\"></i></a>\n",
       " <!--[if lte IE 8]><script src=\"//ajax.googleapis.com/ajax/libs/jquery/1.11.0/jquery.min.js\"></script><![endif]-->\n",
       " <script src=\"js/modernizr-latest.js\"></script>\n",
       " <script src=\"js/jquery-1.8.2.min.js\" type=\"text/javascript\"></script>\n",
       " <script src=\"js/bootstrap.min.js\" type=\"text/javascript\"></script>\n",
       " <script src=\"js/jquery.isotope.min.js\" type=\"text/javascript\"></script>\n",
       " <script src=\"js/fancybox/jquery.fancybox.pack.js\" type=\"text/javascript\"></script>\n",
       " <script src=\"js/jquery.nav.js\" type=\"text/javascript\"></script>\n",
       " <script src=\"js/jquery.cslider.js\" type=\"text/javascript\"></script>\n",
       " <script src=\"js/jquery.diagram.js\"></script>\n",
       " <script src=\"js/custom.js\" type=\"text/javascript\"></script>\n",
       " <script src=\"js/owl-carousel/owl.carousel.js\"></script>\n",
       " </body>]"
      ]
     },
     "execution_count": 11,
     "metadata": {},
     "output_type": "execute_result"
    }
   ],
   "source": [
    "body = parser.find_all(\"body\")\n",
    "body"
   ]
  },
  {
   "cell_type": "code",
   "execution_count": 12,
   "id": "ebe5b12b",
   "metadata": {},
   "outputs": [
    {
     "data": {
      "text/plain": [
       "[<p align=\"justify\"> Data Science and Artificial Intelligence - I am passionate about developing and applying machine learning methods for building algorithms and predictive models using a variety of datasets for solving impactful real world problems. \n",
       "           I am currently interested in the field of Natural Language Processing, Computer Vision and Generative Models.\n",
       "         </p>,\n",
       " <p align=\"justify\" class=\"mrgBtm20\">I am a big fan of programming and love to spend my time programming and learning new things about programming. My favorite programming language is without a doubt Python. However, I often manipulate a lot of other languages like SQL, R, JavaScript, etc. in the context of data science projects. </p>,\n",
       " <p>Thank you for visiting out my profile. If you would like to get into contact with me, please fill out the form below.</p>]"
      ]
     },
     "execution_count": 12,
     "metadata": {},
     "output_type": "execute_result"
    }
   ],
   "source": [
    "p = body[0].find_all(\"p\")\n",
    "p"
   ]
  },
  {
   "cell_type": "code",
   "execution_count": 13,
   "id": "f8747071",
   "metadata": {},
   "outputs": [
    {
     "name": "stdout",
     "output_type": "stream",
     "text": [
      " Data Science and Artificial Intelligence - I am passionate about developing and applying machine learning methods for building algorithms and predictive models using a variety of datasets for solving impactful real world problems. \n",
      "          I am currently interested in the field of Natural Language Processing, Computer Vision and Generative Models.\n",
      "        \n"
     ]
    }
   ],
   "source": [
    "print(p[0].text)"
   ]
  },
  {
   "cell_type": "markdown",
   "id": "daa8576f",
   "metadata": {},
   "source": [
    "### Training"
   ]
  },
  {
   "cell_type": "markdown",
   "id": "89b3ccd2",
   "metadata": {},
   "source": [
    "Let's get the contents of the \\<title> tag using **find_all**."
   ]
  },
  {
   "cell_type": "code",
   "execution_count": 14,
   "id": "ff3e7595",
   "metadata": {},
   "outputs": [
    {
     "data": {
      "text/plain": [
       "[<head>\n",
       " <meta charset=\"utf-8\"/>\n",
       " <meta content=\"width=device-width, initial-scale=1, maximum-scale=1\" name=\"viewport\"/>\n",
       " <!--[if lt IE 9]> \n",
       "     <meta http-equiv=\"X-UA-Compatible\" content=\"IE=edge,chrome=1\">\n",
       "     <![endif]-->\n",
       " <title>Mohamed Niang</title>\n",
       " <link href=\"images/icons.png\" rel=\"icon\" type=\"image/x-icon\"/>\n",
       " <meta content=\"\" name=\"description\"/>\n",
       " <meta content=\"WebThemez\" name=\"author\"/>\n",
       " <!--[if lt IE 9]>\n",
       "         <script src=\"http://html5shim.googlecode.com/svn/trunk/html5.js\"></script>\n",
       "     <![endif]-->\n",
       " <!--[if lte IE 8]>\n",
       " \t\t<script type=\"text/javascript\" src=\"http://explorercanvas.googlecode.com/svn/trunk/excanvas.js\"></script>\n",
       " \t<![endif]-->\n",
       " <link href=\"css/bootstrap.min.css\" rel=\"stylesheet\"/>\n",
       " <link href=\"css/isotope.css\" media=\"screen\" rel=\"stylesheet\" type=\"text/css\"/>\n",
       " <link href=\"js/fancybox/jquery.fancybox.css\" media=\"screen\" rel=\"stylesheet\" type=\"text/css\"/>\n",
       " <link href=\"css/da-slider.css\" rel=\"stylesheet\" type=\"text/css\"/>\n",
       " <link href=\"css/styles.css\" rel=\"stylesheet\"/>\n",
       " <!-- Font Awesome -->\n",
       " <link href=\"css/font-awesome.min.css\" rel=\"stylesheet\"/>\n",
       " </head>]"
      ]
     },
     "execution_count": 14,
     "metadata": {},
     "output_type": "execute_result"
    }
   ],
   "source": [
    "head = parser.find_all(\"head\")\n",
    "head"
   ]
  },
  {
   "cell_type": "code",
   "execution_count": 15,
   "id": "cbb37b57",
   "metadata": {},
   "outputs": [
    {
     "data": {
      "text/plain": [
       "[<title>Mohamed Niang</title>]"
      ]
     },
     "execution_count": 15,
     "metadata": {},
     "output_type": "execute_result"
    }
   ],
   "source": [
    "title = head[0].find_all(\"title\")\n",
    "title"
   ]
  },
  {
   "cell_type": "code",
   "execution_count": 16,
   "id": "6f062d52",
   "metadata": {},
   "outputs": [
    {
     "name": "stdout",
     "output_type": "stream",
     "text": [
      "Mohamed Niang\n"
     ]
    }
   ],
   "source": [
    "print(title[0].text)"
   ]
  },
  {
   "cell_type": "markdown",
   "id": "88f624e1",
   "metadata": {},
   "source": [
    "## Elements corresponding to ids"
   ]
  },
  {
   "cell_type": "markdown",
   "id": "f3790e65",
   "metadata": {},
   "source": [
    "In web programming, **ids** are a kind of **unique key** to **identify** elements of a tag. Let's get the **first section (id=\"aboutUs\")** of our **web page** using **id**."
   ]
  },
  {
   "cell_type": "code",
   "execution_count": 17,
   "id": "47a9d4a0",
   "metadata": {},
   "outputs": [
    {
     "data": {
      "text/plain": [
       "<section id=\"aboutUs\">\n",
       "<div class=\"container\">\n",
       "<div class=\"heading\">\n",
       "<br/><br/><br/>\n",
       "<h2>About Me</h2>\n",
       "<div class=\"row\">\n",
       "<!-- item -->\n",
       "<div class=\"col-md-4 tileBox\"> <img alt=\"me\" src=\"images/photo-1.jpg\"/> </div>\n",
       "<div class=\"col-md-8 tileBox\">\n",
       "<div class=\"txtHead\">\n",
       "<h2>Mohamed Niang</h2>\n",
       "<h3> ML Scientist</h3>\n",
       "</div>\n",
       "<p align=\"justify\"> Data Science and Artificial Intelligence - I am passionate about developing and applying machine learning methods for building algorithms and predictive models using a variety of datasets for solving impactful real world problems. \n",
       "          I am currently interested in the field of Natural Language Processing, Computer Vision and Generative Models.\n",
       "        </p>\n",
       "</div>\n",
       "<!-- end: -->\n",
       "</div>\n",
       "</div>\n",
       "</div>\n",
       "</section>"
      ]
     },
     "execution_count": 17,
     "metadata": {},
     "output_type": "execute_result"
    }
   ],
   "source": [
    "first_section_id = parser.find_all(\"section\", id=\"aboutUs\")[0]\n",
    "first_section_id"
   ]
  },
  {
   "cell_type": "markdown",
   "id": "d7fcac5f",
   "metadata": {},
   "source": [
    "### Training"
   ]
  },
  {
   "cell_type": "markdown",
   "id": "fd58378c",
   "metadata": {},
   "source": [
    "Let's get the **second section (id=\"skills\")** of our **web page** using **id**."
   ]
  },
  {
   "cell_type": "code",
   "execution_count": 18,
   "id": "1647aa69",
   "metadata": {},
   "outputs": [
    {
     "data": {
      "text/plain": [
       "<section class=\"secPad white\" id=\"skills\">\n",
       "<div class=\"container\">\n",
       "<div class=\"heading\">\n",
       "<!-- Heading -->\n",
       "<h2>My Skills</h2>\n",
       "<ul>\n",
       "<li>Programming: Python, Spark, R, SQL, C++, C, VBA, Stata, PHP, Java-Script, HTML, CSS</li>\n",
       "<li>Numerical Tools: Tensorflow, Keras, Scikit-learn, Pytorch, Pycuda, PySpark, Numpy, Scipy, Pandas, Matplotlib, MLlib</li>\n",
       "<li>Machine Learning Skills: Supervised Methods: Naive Bayes, Linear and Logistic Regression</li>\n",
       "<li>Deep Learning Skills: MLP, CNN, RNN, GAN, ResNet and Semi Supervised Learning (VAT)</li>\n",
       "<li>Reinforcement Learning Skills: Markov Decision Processes, Exploration/Exploitation, Value Functions, Q-Learning, Policy Gradients and Dynamic Programming</li>\n",
       "<li>SVM and Kernel Methods, Decision tree</li>\n",
       "<li>Ensemble Methods: XGBoost, LGBM, CatBoost, Random Forest, Bagging</li>\n",
       "<li>Other Modeling Techniques: RIDGE, LASSO, Elastic Net regression</li>\n",
       "<li>Unsupervised Methods: Model based and K-means clustering, Gaussian Mixture, PCA, LDA</li>\n",
       "<li>Research Environment: Git (GitHub, Gitlab, GitBash), GCP, Colab, Kaggle, Databriks, DataLab</li>\n",
       "<li>Statistical Software: STATA, SPSS, R Studio</li>\n",
       "<li>Visualization Software: PowerBI, Talend Open Studio</li>\n",
       "</ul>\n",
       "</div>\n",
       "<div class=\"row skillContainer\">\n",
       "<div class=\"col-md-4 skillBox\">\n",
       "<div class=\"diagram\" data-percent=\"95.2%\" id=\"diagram-id-1\"></div>\n",
       "<div class=\"chart-text\">\n",
       "<h4>Data Science </h4>\n",
       "</div>\n",
       "</div>\n",
       "<div class=\"col-md-4 skillBox\">\n",
       "<div class=\"diagram\" data-percent=\"75.2%\" id=\"diagram-id-2\"></div>\n",
       "<div class=\"chart-text\">\n",
       "<h4>Web Development</h4>\n",
       "</div>\n",
       "</div>\n",
       "<div class=\"col-md-4 skillBox\">\n",
       "<div class=\"diagram\" data-percent=\"85.6%\" id=\"diagram-id-3\"></div>\n",
       "<div class=\"chart-text\">\n",
       "<h4>Data Analysis</h4>\n",
       "</div>\n",
       "</div>\n",
       "</div>\n",
       "<div class=\"row\">\n",
       "<div class=\"col-sm-6\">\n",
       "<h2>Programming Skills</h2>\n",
       "<p align=\"justify\" class=\"mrgBtm20\">I am a big fan of programming and love to spend my time programming and learning new things about programming. My favorite programming language is without a doubt Python. However, I often manipulate a lot of other languages like SQL, R, JavaScript, etc. in the context of data science projects. </p>\n",
       "</div>\n",
       "<div class=\"col-sm-6\"> <br>\n",
       "<br>\n",
       "<br>\n",
       "<div class=\"row\">\n",
       "<div class=\"col-md-2 skilltitle\"><b>Python</b></div>\n",
       "<div class=\"col-md-10\">\n",
       "<div class=\"progress\">\n",
       "<div aria-valuemax=\"100\" aria-valuemin=\"0\" aria-valuenow=\"90\" class=\"progress-bar\" role=\"progressbar\" style=\"width: 90%;\"> <span class=\"sr-only\">90% Complete</span> </div>\n",
       "</div>\n",
       "</div>\n",
       "</div>\n",
       "<div class=\"row\">\n",
       "<div class=\"col-md-2 skilltitle\"><b>R</b></div>\n",
       "<div class=\"col-md-10\">\n",
       "<div class=\"progress\">\n",
       "<div aria-valuemax=\"100\" aria-valuemin=\"0\" aria-valuenow=\"80\" class=\"progress-bar\" role=\"progressbar\" style=\"width: 80%;\"> <span class=\"sr-only\">80% Complete</span> </div>\n",
       "</div>\n",
       "</div>\n",
       "</div>\n",
       "<div class=\"row\">\n",
       "<div class=\"col-md-2 skilltitle\"><b>SQL</b></div>\n",
       "<div class=\"col-md-10\">\n",
       "<div class=\"progress\">\n",
       "<div aria-valuemax=\"100\" aria-valuemin=\"0\" aria-valuenow=\"75\" class=\"progress-bar\" role=\"progressbar\" style=\"width: 75%;\"> <span class=\"sr-only\">75% Complete</span> </div>\n",
       "</div>\n",
       "</div>\n",
       "</div>\n",
       "<div class=\"row\">\n",
       "<div class=\"col-md-2 skilltitle\"><b>JavaScript</b></div>\n",
       "<div class=\"col-md-10\">\n",
       "<div class=\"progress\">\n",
       "<div aria-valuemax=\"100\" aria-valuemin=\"0\" aria-valuenow=\"75\" class=\"progress-bar\" role=\"progressbar\" style=\"width: 75%;\"> <span class=\"sr-only\">75% Complete</span> </div>\n",
       "</div>\n",
       "</div>\n",
       "</div>\n",
       "</br></br></br></div>\n",
       "</div>\n",
       "</div>\n",
       "</section>"
      ]
     },
     "execution_count": 18,
     "metadata": {},
     "output_type": "execute_result"
    }
   ],
   "source": [
    "second_section_id = parser.find_all(\"section\", id=\"skills\")[0]\n",
    "second_section_id"
   ]
  },
  {
   "cell_type": "markdown",
   "id": "5a6b2447",
   "metadata": {},
   "source": [
    "## Elements corresponding to class"
   ]
  },
  {
   "cell_type": "markdown",
   "id": "100cc118",
   "metadata": {},
   "source": [
    "In web programming, **classes** represent a **set of elements to characterize a tag**, so they are not necessarily unique like ids. As for the sections, based on the **structure of our web page**, let's retrieve the **second section (class=\"secPad white\")** of our **web page** using the **classes**."
   ]
  },
  {
   "cell_type": "code",
   "execution_count": 19,
   "id": "5941bb01",
   "metadata": {},
   "outputs": [
    {
     "data": {
      "text/plain": [
       "<section class=\"secPad white\" id=\"skills\">\n",
       "<div class=\"container\">\n",
       "<div class=\"heading\">\n",
       "<!-- Heading -->\n",
       "<h2>My Skills</h2>\n",
       "<ul>\n",
       "<li>Programming: Python, Spark, R, SQL, C++, C, VBA, Stata, PHP, Java-Script, HTML, CSS</li>\n",
       "<li>Numerical Tools: Tensorflow, Keras, Scikit-learn, Pytorch, Pycuda, PySpark, Numpy, Scipy, Pandas, Matplotlib, MLlib</li>\n",
       "<li>Machine Learning Skills: Supervised Methods: Naive Bayes, Linear and Logistic Regression</li>\n",
       "<li>Deep Learning Skills: MLP, CNN, RNN, GAN, ResNet and Semi Supervised Learning (VAT)</li>\n",
       "<li>Reinforcement Learning Skills: Markov Decision Processes, Exploration/Exploitation, Value Functions, Q-Learning, Policy Gradients and Dynamic Programming</li>\n",
       "<li>SVM and Kernel Methods, Decision tree</li>\n",
       "<li>Ensemble Methods: XGBoost, LGBM, CatBoost, Random Forest, Bagging</li>\n",
       "<li>Other Modeling Techniques: RIDGE, LASSO, Elastic Net regression</li>\n",
       "<li>Unsupervised Methods: Model based and K-means clustering, Gaussian Mixture, PCA, LDA</li>\n",
       "<li>Research Environment: Git (GitHub, Gitlab, GitBash), GCP, Colab, Kaggle, Databriks, DataLab</li>\n",
       "<li>Statistical Software: STATA, SPSS, R Studio</li>\n",
       "<li>Visualization Software: PowerBI, Talend Open Studio</li>\n",
       "</ul>\n",
       "</div>\n",
       "<div class=\"row skillContainer\">\n",
       "<div class=\"col-md-4 skillBox\">\n",
       "<div class=\"diagram\" data-percent=\"95.2%\" id=\"diagram-id-1\"></div>\n",
       "<div class=\"chart-text\">\n",
       "<h4>Data Science </h4>\n",
       "</div>\n",
       "</div>\n",
       "<div class=\"col-md-4 skillBox\">\n",
       "<div class=\"diagram\" data-percent=\"75.2%\" id=\"diagram-id-2\"></div>\n",
       "<div class=\"chart-text\">\n",
       "<h4>Web Development</h4>\n",
       "</div>\n",
       "</div>\n",
       "<div class=\"col-md-4 skillBox\">\n",
       "<div class=\"diagram\" data-percent=\"85.6%\" id=\"diagram-id-3\"></div>\n",
       "<div class=\"chart-text\">\n",
       "<h4>Data Analysis</h4>\n",
       "</div>\n",
       "</div>\n",
       "</div>\n",
       "<div class=\"row\">\n",
       "<div class=\"col-sm-6\">\n",
       "<h2>Programming Skills</h2>\n",
       "<p align=\"justify\" class=\"mrgBtm20\">I am a big fan of programming and love to spend my time programming and learning new things about programming. My favorite programming language is without a doubt Python. However, I often manipulate a lot of other languages like SQL, R, JavaScript, etc. in the context of data science projects. </p>\n",
       "</div>\n",
       "<div class=\"col-sm-6\"> <br>\n",
       "<br>\n",
       "<br>\n",
       "<div class=\"row\">\n",
       "<div class=\"col-md-2 skilltitle\"><b>Python</b></div>\n",
       "<div class=\"col-md-10\">\n",
       "<div class=\"progress\">\n",
       "<div aria-valuemax=\"100\" aria-valuemin=\"0\" aria-valuenow=\"90\" class=\"progress-bar\" role=\"progressbar\" style=\"width: 90%;\"> <span class=\"sr-only\">90% Complete</span> </div>\n",
       "</div>\n",
       "</div>\n",
       "</div>\n",
       "<div class=\"row\">\n",
       "<div class=\"col-md-2 skilltitle\"><b>R</b></div>\n",
       "<div class=\"col-md-10\">\n",
       "<div class=\"progress\">\n",
       "<div aria-valuemax=\"100\" aria-valuemin=\"0\" aria-valuenow=\"80\" class=\"progress-bar\" role=\"progressbar\" style=\"width: 80%;\"> <span class=\"sr-only\">80% Complete</span> </div>\n",
       "</div>\n",
       "</div>\n",
       "</div>\n",
       "<div class=\"row\">\n",
       "<div class=\"col-md-2 skilltitle\"><b>SQL</b></div>\n",
       "<div class=\"col-md-10\">\n",
       "<div class=\"progress\">\n",
       "<div aria-valuemax=\"100\" aria-valuemin=\"0\" aria-valuenow=\"75\" class=\"progress-bar\" role=\"progressbar\" style=\"width: 75%;\"> <span class=\"sr-only\">75% Complete</span> </div>\n",
       "</div>\n",
       "</div>\n",
       "</div>\n",
       "<div class=\"row\">\n",
       "<div class=\"col-md-2 skilltitle\"><b>JavaScript</b></div>\n",
       "<div class=\"col-md-10\">\n",
       "<div class=\"progress\">\n",
       "<div aria-valuemax=\"100\" aria-valuemin=\"0\" aria-valuenow=\"75\" class=\"progress-bar\" role=\"progressbar\" style=\"width: 75%;\"> <span class=\"sr-only\">75% Complete</span> </div>\n",
       "</div>\n",
       "</div>\n",
       "</div>\n",
       "</br></br></br></div>\n",
       "</div>\n",
       "</div>\n",
       "</section>"
      ]
     },
     "execution_count": 19,
     "metadata": {},
     "output_type": "execute_result"
    }
   ],
   "source": [
    "second_section_class = parser.find_all(\"section\", class_=\"secPad white\")[0]\n",
    "second_section_class"
   ]
  },
  {
   "cell_type": "markdown",
   "id": "3f3968ef",
   "metadata": {},
   "source": [
    "### Training"
   ]
  },
  {
   "cell_type": "markdown",
   "id": "b58be6db",
   "metadata": {},
   "source": [
    "Let's get the **third section (class=\"page-section secPad\")** of our **web page** using **class**."
   ]
  },
  {
   "cell_type": "code",
   "execution_count": 20,
   "id": "8e0e4b51",
   "metadata": {},
   "outputs": [
    {
     "data": {
      "text/plain": [
       "<section class=\"page-section secPad\" id=\"contactUs\">\n",
       "<div class=\"container\">\n",
       "<div class=\"row\">\n",
       "<div class=\"heading\">\n",
       "<!-- Heading -->\n",
       "<h2>Let's Keep In Touch!</h2>\n",
       "<p>Thank you for visiting out my profile. If you would like to get into contact with me, please fill out the form below.</p>\n",
       "</div>\n",
       "</div>\n",
       "<div class=\"row mrgn30\">\n",
       "<form action=\"\" id=\"contactfrm\" method=\"post\" role=\"form\">\n",
       "<div class=\"col-sm-4\">\n",
       "<div class=\"form-group\">\n",
       "<label for=\"name\">Name</label>\n",
       "<input class=\"form-control\" id=\"name\" name=\"name\" placeholder=\"Enter name\" title=\"Please enter your name (at least 2 characters)\" type=\"text\"/>\n",
       "</div>\n",
       "<div class=\"form-group\">\n",
       "<label for=\"email\">Email</label>\n",
       "<input class=\"form-control\" id=\"email\" name=\"email\" placeholder=\"Enter email\" title=\"Please enter a valid email address\" type=\"email\"/>\n",
       "</div>\n",
       "</div>\n",
       "<div class=\"col-sm-4\">\n",
       "<div class=\"form-group\">\n",
       "<label for=\"comments\">Comments</label>\n",
       "<textarea class=\"form-control\" cols=\"3\" id=\"comments\" name=\"comment\" placeholder=\"Enter your message…\" rows=\"5\" title=\"Please enter your message (at least 10 characters)\"></textarea>\n",
       "</div>\n",
       "<button class=\"btn btn-lg btn-primary\" id=\"submit\" name=\"submit\" type=\"submit\">Submit</button>\n",
       "<div class=\"result\"></div>\n",
       "</div>\n",
       "</form>\n",
       "</div>\n",
       "</div>\n",
       "<!--/.container-->\n",
       "</section>"
      ]
     },
     "execution_count": 20,
     "metadata": {},
     "output_type": "execute_result"
    }
   ],
   "source": [
    "third_section_class = parser.find_all(\"section\", class_=\"page-section secPad\")[0]\n",
    "third_section_class"
   ]
  },
  {
   "cell_type": "markdown",
   "id": "163191c3",
   "metadata": {},
   "source": [
    "## Elements corresponding to css selectors"
   ]
  },
  {
   "cell_type": "markdown",
   "id": "992e58d0",
   "metadata": {},
   "source": [
    "In web programming, **css** allows us to add **styles** to our **html pages**. It can be for example a **color** or a **font size** for the **paragraphs**. To add **style** to **elements (class)**, **css** uses **selectors**. To do this, we will use a new method (**select**) to select elements from the CSS selectors."
   ]
  },
  {
   "cell_type": "markdown",
   "id": "c30b9e64",
   "metadata": {},
   "source": [
    "Let's **get** the **elements** of the **div** corresponding to the **\"chart-text\" selectors** of our web page."
   ]
  },
  {
   "cell_type": "code",
   "execution_count": 21,
   "id": "3c5a7e7f",
   "metadata": {},
   "outputs": [
    {
     "data": {
      "text/plain": [
       "[<div class=\"chart-text\">\n",
       " <h4>Data Science </h4>\n",
       " </div>,\n",
       " <div class=\"chart-text\">\n",
       " <h4>Web Development</h4>\n",
       " </div>,\n",
       " <div class=\"chart-text\">\n",
       " <h4>Data Analysis</h4>\n",
       " </div>]"
      ]
     },
     "execution_count": 21,
     "metadata": {},
     "output_type": "execute_result"
    }
   ],
   "source": [
    "div_char_text = parser.select(\".chart-text\")\n",
    "div_char_text"
   ]
  },
  {
   "cell_type": "code",
   "execution_count": 22,
   "id": "2728bf8f",
   "metadata": {},
   "outputs": [
    {
     "name": "stdout",
     "output_type": "stream",
     "text": [
      "\n",
      "Data Science \n",
      "\n"
     ]
    }
   ],
   "source": [
    "print(div_char_text[0].text)"
   ]
  },
  {
   "cell_type": "markdown",
   "id": "1670dafc",
   "metadata": {},
   "source": [
    "### Training"
   ]
  },
  {
   "cell_type": "markdown",
   "id": "2a06e6bd",
   "metadata": {},
   "source": [
    "This time, we will **retrieve** the **content** of the **divs** corresponding to the **selectors** of an **id (\"main-nav\")**."
   ]
  },
  {
   "cell_type": "code",
   "execution_count": 23,
   "id": "8431d33f",
   "metadata": {},
   "outputs": [
    {
     "data": {
      "text/plain": [
       "[<div class=\"collapse navbar-collapse\" id=\"main-nav\">\n",
       " <ul class=\"nav navbar-nav\" id=\"mainNav\">\n",
       " <li class=\"active\"><a class=\"scroll-link\" href=\"#aboutUs\">About Me</a></li>\n",
       " <li><a class=\"scroll-link\" href=\"#skills\">Skills</a></li>\n",
       " <li><a class=\"scroll-link\" href=\"#contactUs\">Contact Me</a></li>\n",
       " </ul>\n",
       " </div>]"
      ]
     },
     "execution_count": 23,
     "metadata": {},
     "output_type": "execute_result"
    }
   ],
   "source": [
    "div_main_nav = parser.select(\"#main-nav\")\n",
    "div_main_nav"
   ]
  },
  {
   "cell_type": "code",
   "execution_count": 24,
   "id": "03885e9a",
   "metadata": {},
   "outputs": [
    {
     "name": "stdout",
     "output_type": "stream",
     "text": [
      "\n",
      "\n",
      "About Me\n",
      "Skills\n",
      "Contact Me\n",
      "\n",
      "\n"
     ]
    }
   ],
   "source": [
    "print(div_main_nav[0].text)"
   ]
  },
  {
   "cell_type": "markdown",
   "id": "ee2b575f",
   "metadata": {},
   "source": [
    "## Elements corresponding to selectors association in css"
   ]
  },
  {
   "cell_type": "markdown",
   "id": "a808e2e9",
   "metadata": {},
   "source": [
    "The **association of selectors in CSS** is a very robust method in web scraping. It **allows** to **associate several tags** to **retrieve elements** while taking into **consideration the hierarchy**."
   ]
  },
  {
   "cell_type": "markdown",
   "id": "18075e2e",
   "metadata": {},
   "source": [
    "Let's **retrieve** only the **Skills text** from the **previous div** using the **selector association**."
   ]
  },
  {
   "cell_type": "code",
   "execution_count": 25,
   "id": "0702be3a",
   "metadata": {},
   "outputs": [
    {
     "data": {
      "text/plain": [
       "<li><a class=\"scroll-link\" href=\"#skills\">Skills</a></li>"
      ]
     },
     "execution_count": 25,
     "metadata": {},
     "output_type": "execute_result"
    }
   ],
   "source": [
    "skills = div_main_nav[0].select(\"li\")[1]\n",
    "skills"
   ]
  },
  {
   "cell_type": "code",
   "execution_count": 26,
   "id": "939678df",
   "metadata": {},
   "outputs": [
    {
     "name": "stdout",
     "output_type": "stream",
     "text": [
      "Skills\n"
     ]
    }
   ],
   "source": [
    "print(skills.text)"
   ]
  }
 ],
 "metadata": {
  "kernelspec": {
   "display_name": "Python 3 (ipykernel)",
   "language": "python",
   "name": "python3"
  },
  "language_info": {
   "codemirror_mode": {
    "name": "ipython",
    "version": 3
   },
   "file_extension": ".py",
   "mimetype": "text/x-python",
   "name": "python",
   "nbconvert_exporter": "python",
   "pygments_lexer": "ipython3",
   "version": "3.9.7"
  }
 },
 "nbformat": 4,
 "nbformat_minor": 5
}
