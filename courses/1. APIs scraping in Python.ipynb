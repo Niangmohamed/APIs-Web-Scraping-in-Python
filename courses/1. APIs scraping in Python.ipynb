{
 "cells": [
  {
   "cell_type": "markdown",
   "id": "3acecf05",
   "metadata": {},
   "source": [
    "# Python: APIs scraping"
   ]
  },
  {
   "cell_type": "markdown",
   "id": "5995c740",
   "metadata": {},
   "source": [
    "**Goal**: Collect data from an API to exploit them!"
   ]
  },
  {
   "cell_type": "markdown",
   "id": "3b9cbe9f",
   "metadata": {},
   "source": [
    "## Introduction to APIs and GET query"
   ]
  },
  {
   "cell_type": "markdown",
   "id": "de3ab854",
   "metadata": {},
   "source": [
    "### What's an API?"
   ]
  },
  {
   "cell_type": "markdown",
   "id": "3b072f16",
   "metadata": {},
   "source": [
    "In computer science, **API** stands for Application Programming Interface. The API is a computer solution that allows applications to communicate with each other and exchange services or data."
   ]
  },
  {
   "cell_type": "markdown",
   "id": "629a6448",
   "metadata": {},
   "source": [
    "### Request on APIs"
   ]
  },
  {
   "cell_type": "markdown",
   "id": "5533a6b6",
   "metadata": {},
   "source": [
    "The **requests** module is the basic library for making requests on APIs."
   ]
  },
  {
   "cell_type": "code",
   "execution_count": 1,
   "id": "df5e054e",
   "metadata": {},
   "outputs": [],
   "source": [
    "# Example\n",
    "import requests"
   ]
  },
  {
   "cell_type": "markdown",
   "id": "a6d63a6b",
   "metadata": {},
   "source": [
    "#### The GET request"
   ]
  },
  {
   "cell_type": "markdown",
   "id": "1ef367bb",
   "metadata": {},
   "source": [
    "The **GET** method of the **requests** module is the one used to **get information** from an API."
   ]
  },
  {
   "cell_type": "markdown",
   "id": "09787021",
   "metadata": {},
   "source": [
    "Let's make a **request** to **get** the **last position** of the **ISS station** from the **OpenNotify API**: **http://api.open-notify.org/iss-now.json**."
   ]
  },
  {
   "cell_type": "code",
   "execution_count": 2,
   "id": "7e8a0a53",
   "metadata": {},
   "outputs": [],
   "source": [
    "response = requests.get(\"http://api.open-notify.org/iss-now.json\")"
   ]
  },
  {
   "cell_type": "markdown",
   "id": "670a48bc",
   "metadata": {},
   "source": [
    "## Status codes"
   ]
  },
  {
   "cell_type": "code",
   "execution_count": 3,
   "id": "64a62c74",
   "metadata": {},
   "outputs": [
    {
     "data": {
      "text/plain": [
       "<Response [200]>"
      ]
     },
     "execution_count": 3,
     "metadata": {},
     "output_type": "execute_result"
    }
   ],
   "source": [
    "response"
   ]
  },
  {
   "cell_type": "markdown",
   "id": "c0d3db65",
   "metadata": {},
   "source": [
    "Queries return status codes that give us information about the result of the query (success or failure). For each failure, there is a different code. Here are some useful codes with their meanings:\n",
    "\n",
    "* **200**: Everything is normal and the server returned the requested result\n",
    "\n",
    "* **301**: The server redirects to another parameter\n",
    "\n",
    "* **400**: Bad request\n",
    "\n",
    "* **401**: The server thinks that you are not able to authenticate\n",
    "\n",
    "* **403**: The server indicates that you are not allowed to access the API\n",
    "\n",
    "* **404**: The server did not find the resource"
   ]
  },
  {
   "cell_type": "code",
   "execution_count": 4,
   "id": "994f643a",
   "metadata": {},
   "outputs": [
    {
     "data": {
      "text/plain": [
       "200"
      ]
     },
     "execution_count": 4,
     "metadata": {},
     "output_type": "execute_result"
    }
   ],
   "source": [
    "# Code 200\n",
    "status_code = response.status_code\n",
    "status_code"
   ]
  },
  {
   "cell_type": "code",
   "execution_count": 5,
   "id": "155a2429",
   "metadata": {},
   "outputs": [
    {
     "data": {
      "text/plain": [
       "<Response [400]>"
      ]
     },
     "execution_count": 5,
     "metadata": {},
     "output_type": "execute_result"
    }
   ],
   "source": [
    "# Code 400\n",
    "response = requests.get(\"http://api.open-notify.org/iss-pass.json\")\n",
    "response"
   ]
  },
  {
   "cell_type": "code",
   "execution_count": 6,
   "id": "dc737e46",
   "metadata": {},
   "outputs": [
    {
     "data": {
      "text/plain": [
       "<Response [404]>"
      ]
     },
     "execution_count": 6,
     "metadata": {},
     "output_type": "execute_result"
    }
   ],
   "source": [
    "# Code 404\n",
    "response = requests.get(\"http://api.open-notify.org/iss-before.json\")\n",
    "response"
   ]
  },
  {
   "cell_type": "markdown",
   "id": "791cdf1d",
   "metadata": {},
   "source": [
    "## Query parameters"
   ]
  },
  {
   "cell_type": "markdown",
   "id": "dd197938",
   "metadata": {},
   "source": [
    "Some requests need parameters to work."
   ]
  },
  {
   "cell_type": "code",
   "execution_count": 7,
   "id": "137d6489",
   "metadata": {},
   "outputs": [],
   "source": [
    "# Example: Latitude and longitude of Paris city\n",
    "parameters = {\"lat\" : 48.87, \"lon\" : 2.33} # http://api.open-notify.org/iss-pass.json?lat=48.87&lon=2.33"
   ]
  },
  {
   "cell_type": "code",
   "execution_count": 8,
   "id": "f134d268",
   "metadata": {},
   "outputs": [],
   "source": [
    "response = requests.get(\"http://api.open-notify.org/iss-pass.json\", params=parameters)"
   ]
  },
  {
   "cell_type": "markdown",
   "id": "b80aec95",
   "metadata": {},
   "source": [
    "To retrieve the content of the GET request, we use the method **content**."
   ]
  },
  {
   "cell_type": "code",
   "execution_count": 9,
   "id": "8d626f87",
   "metadata": {},
   "outputs": [
    {
     "data": {
      "text/plain": [
       "b'{\\n  \"message\": \"success\", \\n  \"request\": {\\n    \"altitude\": 100, \\n    \"datetime\": 1641826890, \\n    \"latitude\": 48.87, \\n    \"longitude\": 2.33, \\n    \"passes\": 5\\n  }, \\n  \"response\": [\\n    {\\n      \"duration\": 434, \\n      \"risetime\": 1641846180\\n    }, \\n    {\\n      \"duration\": 631, \\n      \"risetime\": 1641851838\\n    }, \\n    {\\n      \"duration\": 652, \\n      \"risetime\": 1641857627\\n    }, \\n    {\\n      \"duration\": 650, \\n      \"risetime\": 1641863448\\n    }, \\n    {\\n      \"duration\": 651, \\n      \"risetime\": 1641869259\\n    }\\n  ]\\n}\\n'"
      ]
     },
     "execution_count": 9,
     "metadata": {},
     "output_type": "execute_result"
    }
   ],
   "source": [
    "response_content = response.content\n",
    "response_content"
   ]
  },
  {
   "cell_type": "markdown",
   "id": "b96c43e4",
   "metadata": {},
   "source": [
    "### Training"
   ]
  },
  {
   "cell_type": "markdown",
   "id": "d02be2c0",
   "metadata": {},
   "source": [
    "Apply the GET request to the city of San Francisco."
   ]
  },
  {
   "cell_type": "code",
   "execution_count": 10,
   "id": "10094ed4",
   "metadata": {},
   "outputs": [
    {
     "data": {
      "text/plain": [
       "b'{\\n  \"message\": \"success\", \\n  \"request\": {\\n    \"altitude\": 100, \\n    \"datetime\": 1641826891, \\n    \"latitude\": 37.78, \\n    \"longitude\": -122.41, \\n    \"passes\": 5\\n  }, \\n  \"response\": [\\n    {\\n      \"duration\": 521, \\n      \"risetime\": 1641873801\\n    }, \\n    {\\n      \"duration\": 648, \\n      \"risetime\": 1641879516\\n    }, \\n    {\\n      \"duration\": 562, \\n      \"risetime\": 1641885395\\n    }, \\n    {\\n      \"duration\": 483, \\n      \"risetime\": 1641891314\\n    }, \\n    {\\n      \"duration\": 566, \\n      \"risetime\": 1641897153\\n    }\\n  ]\\n}\\n'"
      ]
     },
     "execution_count": 10,
     "metadata": {},
     "output_type": "execute_result"
    }
   ],
   "source": [
    "sf_parameters = {\"lat\" : 37.78, \"lon\" : -122.41}\n",
    "sf_response = requests.get(\"http://api.open-notify.org/iss-pass.json\", params=sf_parameters)\n",
    "sf_content = sf_response.content\n",
    "sf_content"
   ]
  },
  {
   "cell_type": "markdown",
   "id": "fe6c2494",
   "metadata": {},
   "source": [
    "## JSON format"
   ]
  },
  {
   "cell_type": "markdown",
   "id": "a72e0336",
   "metadata": {},
   "source": [
    "**JSON** is the main format for sending or receiving data when using an API. There is the **JSON** library with two key functions **dumps** and **loads**. The **dumps** function takes as input a Python object and returns a string. As for the **loads** function, it takes a string as input and returns a Python object (lists, dictionaries, etc)."
   ]
  },
  {
   "cell_type": "code",
   "execution_count": 11,
   "id": "2d7f538b",
   "metadata": {},
   "outputs": [
    {
     "data": {
      "text/plain": [
       "['Mathematics', 'Statistics', 'Computer Science']"
      ]
     },
     "execution_count": 11,
     "metadata": {},
     "output_type": "execute_result"
    }
   ],
   "source": [
    "# Example\n",
    "data_science = [\"Mathematics\", \"Statistics\", \"Computer Science\"]\n",
    "data_science"
   ]
  },
  {
   "cell_type": "code",
   "execution_count": 12,
   "id": "43603f41",
   "metadata": {},
   "outputs": [
    {
     "data": {
      "text/plain": [
       "list"
      ]
     },
     "execution_count": 12,
     "metadata": {},
     "output_type": "execute_result"
    }
   ],
   "source": [
    "type(data_science)"
   ]
  },
  {
   "cell_type": "code",
   "execution_count": 13,
   "id": "fa578f2a",
   "metadata": {},
   "outputs": [],
   "source": [
    "import json"
   ]
  },
  {
   "cell_type": "code",
   "execution_count": 14,
   "id": "3a271bee",
   "metadata": {},
   "outputs": [
    {
     "data": {
      "text/plain": [
       "'[\"Mathematics\", \"Statistics\", \"Computer Science\"]'"
      ]
     },
     "execution_count": 14,
     "metadata": {},
     "output_type": "execute_result"
    }
   ],
   "source": [
    "# dumps\n",
    "data_science_string = json.dumps(data_science)\n",
    "data_science_string"
   ]
  },
  {
   "cell_type": "code",
   "execution_count": 15,
   "id": "fb7fae5a",
   "metadata": {},
   "outputs": [
    {
     "data": {
      "text/plain": [
       "str"
      ]
     },
     "execution_count": 15,
     "metadata": {},
     "output_type": "execute_result"
    }
   ],
   "source": [
    "type(data_science_string)"
   ]
  },
  {
   "cell_type": "code",
   "execution_count": 16,
   "id": "d2baf38d",
   "metadata": {},
   "outputs": [
    {
     "data": {
      "text/plain": [
       "['Mathematics', 'Statistics', 'Computer Science']"
      ]
     },
     "execution_count": 16,
     "metadata": {},
     "output_type": "execute_result"
    }
   ],
   "source": [
    "# loads\n",
    "data_science_list = json.loads(data_science_string)\n",
    "data_science_list"
   ]
  },
  {
   "cell_type": "code",
   "execution_count": 17,
   "id": "2919a19f",
   "metadata": {},
   "outputs": [
    {
     "data": {
      "text/plain": [
       "list"
      ]
     },
     "execution_count": 17,
     "metadata": {},
     "output_type": "execute_result"
    }
   ],
   "source": [
    "type(data_science_list)"
   ]
  },
  {
   "cell_type": "markdown",
   "id": "cb78becd",
   "metadata": {},
   "source": [
    "### Training"
   ]
  },
  {
   "cell_type": "code",
   "execution_count": 18,
   "id": "4dfcf8f4",
   "metadata": {},
   "outputs": [],
   "source": [
    "# Training with dictionaries\n",
    "animals = {\n",
    "    \"dog\" : 15,\n",
    "    \"cat\" : 5,\n",
    "    \"mouse\" : 25,\n",
    "    \"chiken\" : 10\n",
    "}"
   ]
  },
  {
   "cell_type": "code",
   "execution_count": 19,
   "id": "315aa3a7",
   "metadata": {},
   "outputs": [
    {
     "data": {
      "text/plain": [
       "dict"
      ]
     },
     "execution_count": 19,
     "metadata": {},
     "output_type": "execute_result"
    }
   ],
   "source": [
    "type(animals)"
   ]
  },
  {
   "cell_type": "code",
   "execution_count": 20,
   "id": "416dd1a0",
   "metadata": {},
   "outputs": [
    {
     "data": {
      "text/plain": [
       "'{\"dog\": 15, \"cat\": 5, \"mouse\": 25, \"chiken\": 10}'"
      ]
     },
     "execution_count": 20,
     "metadata": {},
     "output_type": "execute_result"
    }
   ],
   "source": [
    "animals_string = json.dumps(animals)\n",
    "animals_string"
   ]
  },
  {
   "cell_type": "code",
   "execution_count": 21,
   "id": "9e1696d7",
   "metadata": {},
   "outputs": [
    {
     "data": {
      "text/plain": [
       "str"
      ]
     },
     "execution_count": 21,
     "metadata": {},
     "output_type": "execute_result"
    }
   ],
   "source": [
    "type(animals_string)"
   ]
  },
  {
   "cell_type": "code",
   "execution_count": 22,
   "id": "905104cf",
   "metadata": {},
   "outputs": [
    {
     "data": {
      "text/plain": [
       "{'dog': 15, 'cat': 5, 'mouse': 25, 'chiken': 10}"
      ]
     },
     "execution_count": 22,
     "metadata": {},
     "output_type": "execute_result"
    }
   ],
   "source": [
    "animals_dict = json.loads(animals_string)\n",
    "animals_dict"
   ]
  },
  {
   "cell_type": "code",
   "execution_count": 23,
   "id": "51f48b13",
   "metadata": {},
   "outputs": [
    {
     "data": {
      "text/plain": [
       "dict"
      ]
     },
     "execution_count": 23,
     "metadata": {},
     "output_type": "execute_result"
    }
   ],
   "source": [
    "type(animals_dict)"
   ]
  },
  {
   "cell_type": "markdown",
   "id": "aa8213c3",
   "metadata": {},
   "source": [
    "## Get a json from a request"
   ]
  },
  {
   "cell_type": "markdown",
   "id": "c42cad07",
   "metadata": {},
   "source": [
    "The **json()** method allows to convert the result of a query into a Python object (dictionary)."
   ]
  },
  {
   "cell_type": "code",
   "execution_count": 24,
   "id": "79910368",
   "metadata": {},
   "outputs": [],
   "source": [
    "# Example\n",
    "parameters = {\"lat\" : 48.87, \"lon\" : 2.33}\n",
    "response = requests.get(\"http://api.open-notify.org/iss-pass.json\", params=parameters)"
   ]
  },
  {
   "cell_type": "code",
   "execution_count": 25,
   "id": "853e868b",
   "metadata": {},
   "outputs": [
    {
     "data": {
      "text/plain": [
       "{'message': 'success',\n",
       " 'request': {'altitude': 100,\n",
       "  'datetime': 1641826890,\n",
       "  'latitude': 48.87,\n",
       "  'longitude': 2.33,\n",
       "  'passes': 5},\n",
       " 'response': [{'duration': 434, 'risetime': 1641846180},\n",
       "  {'duration': 631, 'risetime': 1641851838},\n",
       "  {'duration': 652, 'risetime': 1641857627},\n",
       "  {'duration': 650, 'risetime': 1641863448},\n",
       "  {'duration': 651, 'risetime': 1641869259}]}"
      ]
     },
     "execution_count": 25,
     "metadata": {},
     "output_type": "execute_result"
    }
   ],
   "source": [
    "json_response = response.json()\n",
    "json_response"
   ]
  },
  {
   "cell_type": "code",
   "execution_count": 26,
   "id": "d407db1f",
   "metadata": {},
   "outputs": [
    {
     "data": {
      "text/plain": [
       "dict"
      ]
     },
     "execution_count": 26,
     "metadata": {},
     "output_type": "execute_result"
    }
   ],
   "source": [
    "type(json_response)"
   ]
  },
  {
   "cell_type": "code",
   "execution_count": 27,
   "id": "4427581f",
   "metadata": {},
   "outputs": [
    {
     "data": {
      "text/plain": [
       "434"
      ]
     },
     "execution_count": 27,
     "metadata": {},
     "output_type": "execute_result"
    }
   ],
   "source": [
    "first_iss_pass_duration = json_response['response'][0]['duration']\n",
    "first_iss_pass_duration"
   ]
  },
  {
   "cell_type": "markdown",
   "id": "d4e4ac53",
   "metadata": {},
   "source": [
    "## Type of content"
   ]
  },
  {
   "cell_type": "markdown",
   "id": "f23dedb0",
   "metadata": {},
   "source": [
    "When we make a **GET** request, the server provides us with a **status code**, **data** and also **metadata** that contains information about how the data was generated. This information can be found on the **header** of the response. It is accessed with the method **hearders**."
   ]
  },
  {
   "cell_type": "code",
   "execution_count": 31,
   "id": "faa37cc2",
   "metadata": {},
   "outputs": [
    {
     "data": {
      "text/plain": [
       "{'Server': 'nginx/1.10.3', 'Date': 'Mon, 10 Jan 2022 15:01:31 GMT', 'Content-Type': 'application/json', 'Content-Length': '518', 'Connection': 'keep-alive', 'Via': '1.1 vegur'}"
      ]
     },
     "execution_count": 31,
     "metadata": {},
     "output_type": "execute_result"
    }
   ],
   "source": [
    "# Example\n",
    "response.headers"
   ]
  },
  {
   "cell_type": "markdown",
   "id": "523876a5",
   "metadata": {},
   "source": [
    "The parameter that interests us most in this header data is the **Content-Type**."
   ]
  },
  {
   "cell_type": "code",
   "execution_count": 32,
   "id": "04d3cce1",
   "metadata": {},
   "outputs": [
    {
     "data": {
      "text/plain": [
       "'application/json'"
      ]
     },
     "execution_count": 32,
     "metadata": {},
     "output_type": "execute_result"
    }
   ],
   "source": [
    "response_content_type = response.headers['Content-Type']\n",
    "response_content_type"
   ]
  },
  {
   "cell_type": "markdown",
   "id": "7c55452c",
   "metadata": {},
   "source": [
    "## Training"
   ]
  },
  {
   "cell_type": "markdown",
   "id": "a6d5bb58",
   "metadata": {},
   "source": [
    "Let's find the number of people in the space with the API **http://api.open-notify.org/astros.json**."
   ]
  },
  {
   "cell_type": "code",
   "execution_count": 34,
   "id": "14192865",
   "metadata": {},
   "outputs": [
    {
     "data": {
      "text/plain": [
       "<Response [200]>"
      ]
     },
     "execution_count": 34,
     "metadata": {},
     "output_type": "execute_result"
    }
   ],
   "source": [
    "response = requests.get(\"http://api.open-notify.org/astros.json\")\n",
    "response"
   ]
  },
  {
   "cell_type": "code",
   "execution_count": 36,
   "id": "6e79022e",
   "metadata": {},
   "outputs": [
    {
     "data": {
      "text/plain": [
       "{'Server': 'nginx/1.10.3', 'Date': 'Mon, 10 Jan 2022 15:19:41 GMT', 'Content-Type': 'application/json', 'Content-Length': '497', 'Connection': 'keep-alive', 'access-control-allow-origin': '*'}"
      ]
     },
     "execution_count": 36,
     "metadata": {},
     "output_type": "execute_result"
    }
   ],
   "source": [
    "response.headers"
   ]
  },
  {
   "cell_type": "code",
   "execution_count": 37,
   "id": "a922f329",
   "metadata": {},
   "outputs": [
    {
     "data": {
      "text/plain": [
       "b'{\"people\": [{\"craft\": \"ISS\", \"name\": \"Mark Vande Hei\"}, {\"craft\": \"ISS\", \"name\": \"Pyotr Dubrov\"}, {\"craft\": \"ISS\", \"name\": \"Anton Shkaplerov\"}, {\"craft\": \"Shenzhou 13\", \"name\": \"Zhai Zhigang\"}, {\"craft\": \"Shenzhou 13\", \"name\": \"Wang Yaping\"}, {\"craft\": \"Shenzhou 13\", \"name\": \"Ye Guangfu\"}, {\"craft\": \"ISS\", \"name\": \"Raja Chari\"}, {\"craft\": \"ISS\", \"name\": \"Tom Marshburn\"}, {\"craft\": \"ISS\", \"name\": \"Kayla Barron\"}, {\"craft\": \"ISS\", \"name\": \"Matthias Maurer\"}], \"message\": \"success\", \"number\": 10}'"
      ]
     },
     "execution_count": 37,
     "metadata": {},
     "output_type": "execute_result"
    }
   ],
   "source": [
    "response.content"
   ]
  },
  {
   "cell_type": "code",
   "execution_count": 38,
   "id": "1fab940e",
   "metadata": {},
   "outputs": [
    {
     "data": {
      "text/plain": [
       "{'people': [{'craft': 'ISS', 'name': 'Mark Vande Hei'},\n",
       "  {'craft': 'ISS', 'name': 'Pyotr Dubrov'},\n",
       "  {'craft': 'ISS', 'name': 'Anton Shkaplerov'},\n",
       "  {'craft': 'Shenzhou 13', 'name': 'Zhai Zhigang'},\n",
       "  {'craft': 'Shenzhou 13', 'name': 'Wang Yaping'},\n",
       "  {'craft': 'Shenzhou 13', 'name': 'Ye Guangfu'},\n",
       "  {'craft': 'ISS', 'name': 'Raja Chari'},\n",
       "  {'craft': 'ISS', 'name': 'Tom Marshburn'},\n",
       "  {'craft': 'ISS', 'name': 'Kayla Barron'},\n",
       "  {'craft': 'ISS', 'name': 'Matthias Maurer'}],\n",
       " 'message': 'success',\n",
       " 'number': 10}"
      ]
     },
     "execution_count": 38,
     "metadata": {},
     "output_type": "execute_result"
    }
   ],
   "source": [
    "response_json_data = response.json()\n",
    "response_json_data"
   ]
  },
  {
   "cell_type": "code",
   "execution_count": 39,
   "id": "36e8cf85",
   "metadata": {},
   "outputs": [
    {
     "data": {
      "text/plain": [
       "10"
      ]
     },
     "execution_count": 39,
     "metadata": {},
     "output_type": "execute_result"
    }
   ],
   "source": [
    "nb_people_in_space = response_json_data['number']\n",
    "nb_people_in_space"
   ]
  }
 ],
 "metadata": {
  "kernelspec": {
   "display_name": "Python 3 (ipykernel)",
   "language": "python",
   "name": "python3"
  },
  "language_info": {
   "codemirror_mode": {
    "name": "ipython",
    "version": 3
   },
   "file_extension": ".py",
   "mimetype": "text/x-python",
   "name": "python",
   "nbconvert_exporter": "python",
   "pygments_lexer": "ipython3",
   "version": "3.9.7"
  }
 },
 "nbformat": 4,
 "nbformat_minor": 5
}
