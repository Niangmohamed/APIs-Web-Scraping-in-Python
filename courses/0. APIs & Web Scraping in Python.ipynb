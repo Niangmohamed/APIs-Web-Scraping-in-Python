{
 "cells": [
  {
   "cell_type": "markdown",
   "id": "451771ea",
   "metadata": {},
   "source": [
    "# Python: APIs & Web Scraping"
   ]
  },
  {
   "cell_type": "markdown",
   "id": "1b276dd1",
   "metadata": {},
   "source": [
    "**Author: Mohamed NIANG, *ML Scientist***"
   ]
  },
  {
   "cell_type": "markdown",
   "id": "437d63b6",
   "metadata": {},
   "source": [
    "## Presentation"
   ]
  },
  {
   "cell_type": "markdown",
   "id": "9c0bdc73",
   "metadata": {},
   "source": [
    "This repository contains notebooks on APIs and Web Scrapping in Python."
   ]
  },
  {
   "cell_type": "markdown",
   "id": "873c3d1e",
   "metadata": {},
   "source": [
    "## Program Content"
   ]
  },
  {
   "cell_type": "markdown",
   "id": "5614d48d",
   "metadata": {},
   "source": [
    "1. APIs scraping in Python\n",
    "2. API authentication in Python\n",
    "3. Reddit API authentication and scraping in Python\n",
    "4. Web scraping in Python\n",
    "5. Web scraping on weather website in Python.ipynb"
   ]
  }
 ],
 "metadata": {
  "kernelspec": {
   "display_name": "Python 3 (ipykernel)",
   "language": "python",
   "name": "python3"
  },
  "language_info": {
   "codemirror_mode": {
    "name": "ipython",
    "version": 3
   },
   "file_extension": ".py",
   "mimetype": "text/x-python",
   "name": "python",
   "nbconvert_exporter": "python",
   "pygments_lexer": "ipython3",
   "version": "3.9.7"
  }
 },
 "nbformat": 4,
 "nbformat_minor": 5
}
